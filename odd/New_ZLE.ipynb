{
 "cells": [
  {
   "cell_type": "code",
   "execution_count": 310,
   "metadata": {
    "executionInfo": {
     "elapsed": 24,
     "status": "ok",
     "timestamp": 1650960302564,
     "user": {
      "displayName": "박선영",
      "userId": "02522110649935123410"
     },
     "user_tz": -540
    },
    "id": "aivX89drXoWM"
   },
   "outputs": [],
   "source": [
    "from tqdm import tqdm\n",
    "import os\n",
    "import pandas as pd\n",
    "import numpy as np\n",
    "import time\n",
    "from sklearn.model_selection import train_test_split\n",
    "from sklearn import metrics\n",
    "from sklearn import ensemble\n",
    "from sklearn.preprocessing import StandardScaler\n",
    "#from custom_datasets import CustomDataset\n",
    "from sklearn.metrics import mean_squared_error\n",
    "from sklearn.model_selection import GridSearchCV\n",
    "from sklearn.metrics import mean_absolute_error\n",
    "from tqdm import tqdm\n",
    "import torch\n",
    "from torch import nn\n",
    "from torch.utils.data import TensorDataset # 텐서데이터셋\n",
    "from torch.utils.data import DataLoader # 데이터로더\n",
    "import matplotlib.pyplot as plt"
   ]
  },
  {
   "cell_type": "code",
   "execution_count": 311,
   "metadata": {
    "executionInfo": {
     "elapsed": 24,
     "status": "ok",
     "timestamp": 1650960302566,
     "user": {
      "displayName": "박선영",
      "userId": "02522110649935123410"
     },
     "user_tz": -540
    },
    "id": "a8-WyQtVXoWU"
   },
   "outputs": [],
   "source": [
    "from sklearn.metrics import make_scorer\n",
    "#define your own mse and set greater_is_better=False\n",
    "mse = make_scorer(mean_squared_error,greater_is_better=False)"
   ]
  },
  {
   "cell_type": "code",
   "execution_count": 312,
   "metadata": {
    "executionInfo": {
     "elapsed": 24,
     "status": "ok",
     "timestamp": 1650960302567,
     "user": {
      "displayName": "박선영",
      "userId": "02522110649935123410"
     },
     "user_tz": -540
    },
    "id": "iZ_2ipiqXoWW"
   },
   "outputs": [],
   "source": [
    "df_train = pd.read_csv('../datasets/vkitti_kitti_train.csv')\n",
    "df_valid = pd.read_csv('../datasets/vkitti_kitti_valid.csv')\n",
    "df_test = pd.read_csv('../datasets/vkitti_kitti_test.csv')"
   ]
  },
  {
   "cell_type": "code",
   "execution_count": 313,
   "metadata": {
    "executionInfo": {
     "elapsed": 324,
     "status": "ok",
     "timestamp": 1650960310787,
     "user": {
      "displayName": "박선영",
      "userId": "02522110649935123410"
     },
     "user_tz": -540
    },
    "id": "HrnhR8NeuFVN"
   },
   "outputs": [],
   "source": [
    "train = df_train.drop(['filename', 'class', 'weather','angle'], axis=1)\n",
    "valid = df_valid.drop(['filename', 'class', 'weather','angle'], axis=1)\n",
    "test = df_test.drop(['filename', 'class', 'weather','angle'], axis=1)"
   ]
  },
  {
   "cell_type": "code",
   "execution_count": 314,
   "metadata": {
    "executionInfo": {
     "elapsed": 350,
     "status": "ok",
     "timestamp": 1650960312682,
     "user": {
      "displayName": "박선영",
      "userId": "02522110649935123410"
     },
     "user_tz": -540
    },
    "id": "8FbTJcipXoWj"
   },
   "outputs": [],
   "source": [
    "X_train = train.loc[:, train.columns != 'zloc']\n",
    "y_train = train.loc[:, train.columns == 'zloc']\n",
    "\n",
    "X_valid = valid.loc[:, valid.columns != 'zloc']\n",
    "y_valid = valid.loc[:, valid.columns == 'zloc']\n",
    "\n",
    "X_test = test.loc[:, test.columns != 'zloc']\n",
    "y_test = test.loc[:, test.columns == 'zloc']"
   ]
  },
  {
   "cell_type": "code",
   "execution_count": 315,
   "metadata": {
    "executionInfo": {
     "elapsed": 355,
     "status": "ok",
     "timestamp": 1650960315730,
     "user": {
      "displayName": "박선영",
      "userId": "02522110649935123410"
     },
     "user_tz": -540
    },
    "id": "JLpTygovCsVq"
   },
   "outputs": [],
   "source": [
    "from sklearn.preprocessing import StandardScaler\n",
    "scalerX = StandardScaler().fit(X_train)\n",
    "#scalery = StandardScaler().fit(y_train)"
   ]
  },
  {
   "cell_type": "code",
   "execution_count": 316,
   "metadata": {
    "executionInfo": {
     "elapsed": 349,
     "status": "ok",
     "timestamp": 1650960318062,
     "user": {
      "displayName": "박선영",
      "userId": "02522110649935123410"
     },
     "user_tz": -540
    },
    "id": "TgcHGXKsCtps"
   },
   "outputs": [],
   "source": [
    "X_train_scale = scalerX.transform(X_train)\n",
    "#y_train_scale = scalery.transform(y_train)\n",
    "\n",
    "X_valid_scale = scalerX.transform(X_valid)\n",
    "#y_valid_scale = scalery.transform(y_valid)\n",
    "\n",
    "X_test_scale = scalerX.transform(X_test)\n",
    "#y_test_scale = scalery.transform(y_test)"
   ]
  },
  {
   "cell_type": "code",
   "execution_count": 204,
   "metadata": {
    "executionInfo": {
     "elapsed": 265,
     "status": "ok",
     "timestamp": 1650946073570,
     "user": {
      "displayName": "박선영",
      "userId": "02522110649935123410"
     },
     "user_tz": -540
    },
    "id": "gidgFQKMyuia"
   },
   "outputs": [],
   "source": [
    "#['xmin', 'ymin', 'xmax', 'ymax', 'zloc', 'depth_mean', 'depth_min','width', 'height']"
   ]
  },
  {
   "cell_type": "code",
   "execution_count": 63,
   "metadata": {
    "executionInfo": {
     "elapsed": 279,
     "status": "ok",
     "timestamp": 1650940738044,
     "user": {
      "displayName": "박선영",
      "userId": "02522110649935123410"
     },
     "user_tz": -540
    },
    "id": "PqQ5ILhOXoWV"
   },
   "outputs": [],
   "source": [
    "os.makedirs('./weights', exist_ok=True)"
   ]
  },
  {
   "cell_type": "code",
   "execution_count": 320,
   "metadata": {
    "executionInfo": {
     "elapsed": 314,
     "status": "ok",
     "timestamp": 1650960353674,
     "user": {
      "displayName": "박선영",
      "userId": "02522110649935123410"
     },
     "user_tz": -540
    },
    "id": "gr41z47lXoWl"
   },
   "outputs": [],
   "source": [
    "#텐서화\n",
    "X_train = torch.FloatTensor(X_train_scale)\n",
    "y_train = torch.FloatTensor(y_train.values)\n",
    "\n",
    "X_valid = torch.FloatTensor(X_valid_scale)\n",
    "y_valid = torch.FloatTensor(y_valid.values)\n",
    "\n",
    "X_test = torch.FloatTensor(X_test_scale)\n",
    "y_test = torch.FloatTensor(y_test.values)"
   ]
  },
  {
   "cell_type": "code",
   "execution_count": 321,
   "metadata": {
    "executionInfo": {
     "elapsed": 300,
     "status": "ok",
     "timestamp": 1650960356843,
     "user": {
      "displayName": "박선영",
      "userId": "02522110649935123410"
     },
     "user_tz": -540
    },
    "id": "fYsb82nCXoWm"
   },
   "outputs": [],
   "source": [
    "class Zloc_Estimaotor(nn.Module):\n",
    "    def __init__(self):\n",
    "        super().__init__()\n",
    "        #Layer\n",
    "        layersize=[16,32,64,32,16,8,2]\n",
    "        layerlist= []\n",
    "        n_in=10\n",
    "        for i in layersize:\n",
    "            layerlist.append(nn.Linear(n_in,i))\n",
    "            layerlist.append(nn.ReLU(inplace=True))\n",
    "            layerlist.append(nn.BatchNorm1d(i))\n",
    "            layerlist.append(nn.Dropout(0.2))\n",
    "            n_in=i           \n",
    "        layerlist.append(nn.Linear(layersize[-1],1))\n",
    "        layerlist.append(nn.Sigmoid())\n",
    "        \n",
    "        self.layers=nn.Sequential(*layerlist)\n",
    "        \n",
    "    def forward(self, x):\n",
    "        out= self.layers(x)\n",
    "        return out"
   ]
  },
  {
   "cell_type": "code",
   "execution_count": 322,
   "metadata": {
    "executionInfo": {
     "elapsed": 312,
     "status": "ok",
     "timestamp": 1650960359523,
     "user": {
      "displayName": "박선영",
      "userId": "02522110649935123410"
     },
     "user_tz": -540
    },
    "id": "SMlAZNpUXoWm"
   },
   "outputs": [],
   "source": [
    "# Function to save the model \n",
    "def saveModel(model, path): \n",
    "    torch.save(model.state_dict(), path) "
   ]
  },
  {
   "cell_type": "code",
   "execution_count": 323,
   "metadata": {
    "executionInfo": {
     "elapsed": 11,
     "status": "ok",
     "timestamp": 1650960360563,
     "user": {
      "displayName": "박선영",
      "userId": "02522110649935123410"
     },
     "user_tz": -540
    },
    "id": "ZeNI7_aqXoWn"
   },
   "outputs": [],
   "source": [
    "def train_model(model, train_dataloader, valid_dataloader, loss_fn, path, lr=1e-3, batch_size=256, epochs=100, validate=False):\n",
    "    param_lrs = [{'params':param, 'lr':lr} for param in model.parameters()]\n",
    "    optimizer = torch.optim.Adam(param_lrs, lr=lr) #weighted decay 설정하여고고\n",
    "  \n",
    "    # Define your execution device\n",
    "    device = torch.device(\"cuda:0\" if torch.cuda.is_available() else \"cpu\")\n",
    "    # Convert model parameters and buffers to CPU or Cuda\n",
    "    model.to(device)\n",
    "\n",
    "    best_rmse = np.Inf\n",
    "    print(\"Begin training...\") \n",
    "    res_train = []\n",
    "    res_valid = []\n",
    "    res_rmse = []\n",
    "    for epoch in range(1, epochs+1): \n",
    "    running_train_loss = 0.0 \n",
    "    running_rmse = 0.0 \n",
    "    running_val_loss = 0.0 \n",
    "    total = 0 \n",
    "\n",
    "    for batch_ind, samples in enumerate(train_dataloader):\n",
    "        x_train, y_train = samples\n",
    "        optimizer.zero_grad()\n",
    "        pred = model.forward(x_train)\n",
    "        train_loss = loss_fn(pred, y_train)\n",
    "        train_loss.backward()\n",
    "        optimizer.step()\n",
    "        running_train_loss += train_loss.item()\n",
    "\n",
    "    train_loss_value = running_train_loss/len(train_dataloader)\n",
    "    \n",
    "    with torch.no_grad(): \n",
    "      #model.eval() \n",
    "      for data in valid_dataloader: \n",
    "        inputs, outputs = data \n",
    "        predicted_outputs = model(inputs) \n",
    "        val_loss = loss_fn(predicted_outputs, outputs) \n",
    "      \n",
    "        # The label with the highest value will be our prediction \n",
    "        running_val_loss += val_loss.item()  \n",
    "        total += 1\n",
    "        rmse = mean_squared_error(outputs, predicted_outputs)\n",
    "        running_rmse += rmse\n",
    "\n",
    "    # Calculate validation loss value \n",
    "    val_loss_value = running_val_loss/len(valid_dataloader)  \n",
    "    rmse = (running_rmse / total)**0.5\n",
    "\n",
    "    if rmse < best_rmse:\n",
    "        saveModel(model, path)\n",
    "        best_rmse = rmse\n",
    "    \n",
    "    # Print the statistics of the epoch \n",
    "    print('Epoch {0}/{1} - loss: {2:.4f} / val_loss: {3:.4f} - RMSE: {4:.4f}'.format(epoch, epochs, train_loss_value, val_loss_value, rmse))\n",
    "    res_train.append(train_loss_value)\n",
    "    res_valid.append(val_loss_value)\n",
    "    res_rmse.append(rmse)\n",
    "    return [res_train, res_valid, res_rmse]"
   ]
  },
  {
   "cell_type": "code",
   "execution_count": 324,
   "metadata": {
    "executionInfo": {
     "elapsed": 298,
     "status": "ok",
     "timestamp": 1650960365028,
     "user": {
      "displayName": "박선영",
      "userId": "02522110649935123410"
     },
     "user_tz": -540
    },
    "id": "TE_VTos_XoWp"
   },
   "outputs": [],
   "source": [
    "def predict(test_dataloader, path): \n",
    "    # Load the model that we saved at the end of the training loop \n",
    "    model = Zloc_Estimaotor()\n",
    "    model.load_state_dict(torch.load(path)) \n",
    "     \n",
    "    running_rmse = 0 \n",
    "    total = 0 \n",
    "    pred = []\n",
    " \n",
    "    with torch.no_grad(): \n",
    "        model.eval()\n",
    "        for data in test_dataloader: \n",
    "            inputs, outputs = data \n",
    "            inputs=inputs.unsqueeze(0)\n",
    "            outputs = outputs.to(torch.float32) \n",
    "            predicted_outputs = model(inputs) \n",
    "            pred.append(float(predicted_outputs))\n",
    "            total += 1\n",
    "        rmse = mean_squared_error(outputs, predicted_outputs)\n",
    "        running_rmse += rmse\n",
    "\n",
    "        print('RMSE:',(running_rmse / total)**0.5)\n",
    "        return pred"
   ]
  },
  {
   "cell_type": "code",
   "execution_count": 325,
   "metadata": {
    "executionInfo": {
     "elapsed": 305,
     "status": "ok",
     "timestamp": 1650960367675,
     "user": {
      "displayName": "박선영",
      "userId": "02522110649935123410"
     },
     "user_tz": -540
    },
    "id": "z_YSC1d6XoWp"
   },
   "outputs": [],
   "source": [
    "train_dataset = TensorDataset(X_train, y_train)\n",
    "valid_dataset = TensorDataset(X_valid, y_valid)\n",
    "train_dataloader = DataLoader(train_dataset, batch_size=4)\n",
    "valid_dataloader = DataLoader(valid_dataset, batch_size=4)"
   ]
  },
  {
   "cell_type": "code",
   "execution_count": 327,
   "metadata": {
    "executionInfo": {
     "elapsed": 303,
     "status": "ok",
     "timestamp": 1650960372020,
     "user": {
      "displayName": "박선영",
      "userId": "02522110649935123410"
     },
     "user_tz": -540
    },
    "id": "wXxQwwK7XoWp"
   },
   "outputs": [],
   "source": [
    "import torch.nn.init as init\n",
    "def weight_init(m):\n",
    "    if isinstance(m, nn.Linear): # nn.Linear에 있는 가중치에만 적용\n",
    "        init.kaiming_uniform_(m.weight.data) # He initialization\n",
    "\n",
    "model = Zloc_Estimaotor()\n",
    "model.apply(weight_init) # 가중치 초깃값 설정\n",
    "loss_func = nn.MSELoss()\n",
    "path = (\"weights/ZLE_03.pth\")"
   ]
  },
  {
   "cell_type": "code",
   "execution_count": 328,
   "metadata": {
    "colab": {
     "base_uri": "https://localhost:8080/"
    },
    "executionInfo": {
     "elapsed": 21,
     "status": "ok",
     "timestamp": 1650960373076,
     "user": {
      "displayName": "박선영",
      "userId": "02522110649935123410"
     },
     "user_tz": -540
    },
    "id": "HdIXTsBrXoWq",
    "outputId": "1bb50a00-47a6-4534-9ffc-6ed1eabb40b6"
   },
   "outputs": [
    {
     "data": {
      "text/plain": [
       "DistanceEstimator(\n",
       "  (activation): ReLU()\n",
       "  (fc1): Linear(in_features=10, out_features=6, bias=True)\n",
       "  (fc2): Linear(in_features=6, out_features=5, bias=True)\n",
       "  (fc3): Linear(in_features=5, out_features=2, bias=True)\n",
       "  (fc4): Linear(in_features=2, out_features=1, bias=True)\n",
       ")"
      ]
     },
     "execution_count": 328,
     "metadata": {},
     "output_type": "execute_result"
    }
   ],
   "source": [
    "model"
   ]
  },
  {
   "cell_type": "code",
   "execution_count": 329,
   "metadata": {
    "colab": {
     "base_uri": "https://localhost:8080/"
    },
    "executionInfo": {
     "elapsed": 923973,
     "status": "ok",
     "timestamp": 1650961303266,
     "user": {
      "displayName": "박선영",
      "userId": "02522110649935123410"
     },
     "user_tz": -540
    },
    "id": "XM92X-VXXoWq",
    "outputId": "b841e690-6195-4393-bd03-81a51b96fc5c"
   },
   "outputs": [
    {
     "name": "stdout",
     "output_type": "stream",
     "text": [
      "Begin training...\n",
      "Epoch 1/100 - loss: 658.2317 / val_loss: 700.3019 - RMSE: 26.4632\n",
      "Epoch 2/100 - loss: 553.6178 / val_loss: 684.9234 - RMSE: 26.1710\n",
      "Epoch 3/100 - loss: 543.5317 / val_loss: 671.5257 - RMSE: 25.9138\n",
      "Epoch 4/100 - loss: 533.6524 / val_loss: 658.7731 - RMSE: 25.6666\n",
      "Epoch 5/100 - loss: 525.0382 / val_loss: 647.1733 - RMSE: 25.4396\n",
      "Epoch 6/100 - loss: 516.8124 / val_loss: 638.3615 - RMSE: 25.2658\n",
      "Epoch 7/100 - loss: 510.0521 / val_loss: 629.8114 - RMSE: 25.0960\n",
      "Epoch 8/100 - loss: 504.2219 / val_loss: 623.2377 - RMSE: 24.9647\n",
      "Epoch 9/100 - loss: 499.1411 / val_loss: 616.9157 - RMSE: 24.8378\n",
      "Epoch 10/100 - loss: 494.4807 / val_loss: 609.3350 - RMSE: 24.6847\n",
      "Epoch 11/100 - loss: 490.0131 / val_loss: 605.9001 - RMSE: 24.6150\n",
      "Epoch 12/100 - loss: 485.6917 / val_loss: 600.7133 - RMSE: 24.5095\n",
      "Epoch 13/100 - loss: 481.8658 / val_loss: 595.3348 - RMSE: 24.3995\n",
      "Epoch 14/100 - loss: 477.0509 / val_loss: 588.2079 - RMSE: 24.2530\n",
      "Epoch 15/100 - loss: 472.2077 / val_loss: 581.4943 - RMSE: 24.1142\n",
      "Epoch 16/100 - loss: 467.8788 / val_loss: 576.2353 - RMSE: 24.0049\n",
      "Epoch 17/100 - loss: 463.6723 / val_loss: 567.9030 - RMSE: 23.8307\n",
      "Epoch 18/100 - loss: 458.7589 / val_loss: 561.6975 - RMSE: 23.7002\n",
      "Epoch 19/100 - loss: 455.0122 / val_loss: 557.8270 - RMSE: 23.6184\n",
      "Epoch 20/100 - loss: 451.2819 / val_loss: 554.9414 - RMSE: 23.5572\n",
      "Epoch 21/100 - loss: 447.0515 / val_loss: 551.6543 - RMSE: 23.4873\n",
      "Epoch 22/100 - loss: 444.5884 / val_loss: 548.4333 - RMSE: 23.4187\n",
      "Epoch 23/100 - loss: 441.9372 / val_loss: 544.1191 - RMSE: 23.3264\n",
      "Epoch 24/100 - loss: 440.0010 / val_loss: 540.3802 - RMSE: 23.2461\n",
      "Epoch 25/100 - loss: 437.9306 / val_loss: 537.9591 - RMSE: 23.1939\n",
      "Epoch 26/100 - loss: 435.9379 / val_loss: 536.1773 - RMSE: 23.1555\n",
      "Epoch 27/100 - loss: 434.2129 / val_loss: 533.1412 - RMSE: 23.0899\n",
      "Epoch 28/100 - loss: 432.0132 / val_loss: 530.8032 - RMSE: 23.0392\n",
      "Epoch 29/100 - loss: 429.8234 / val_loss: 527.5846 - RMSE: 22.9692\n",
      "Epoch 30/100 - loss: 427.4273 / val_loss: 525.8727 - RMSE: 22.9319\n",
      "Epoch 31/100 - loss: 424.8867 / val_loss: 522.5565 - RMSE: 22.8595\n",
      "Epoch 32/100 - loss: 422.2345 / val_loss: 520.0739 - RMSE: 22.8051\n",
      "Epoch 33/100 - loss: 420.6105 / val_loss: 518.2850 - RMSE: 22.7659\n",
      "Epoch 34/100 - loss: 418.6393 / val_loss: 515.1519 - RMSE: 22.6970\n",
      "Epoch 35/100 - loss: 416.4862 / val_loss: 515.0894 - RMSE: 22.6956\n",
      "Epoch 36/100 - loss: 414.6575 / val_loss: 511.4658 - RMSE: 22.6156\n",
      "Epoch 37/100 - loss: 412.4516 / val_loss: 509.7026 - RMSE: 22.5766\n",
      "Epoch 38/100 - loss: 410.7406 / val_loss: 508.3350 - RMSE: 22.5463\n",
      "Epoch 39/100 - loss: 408.7528 / val_loss: 505.2120 - RMSE: 22.4769\n",
      "Epoch 40/100 - loss: 407.1104 / val_loss: 503.8710 - RMSE: 22.4471\n",
      "Epoch 41/100 - loss: 405.4946 / val_loss: 499.7133 - RMSE: 22.3543\n",
      "Epoch 42/100 - loss: 403.5286 / val_loss: 497.4742 - RMSE: 22.3041\n",
      "Epoch 43/100 - loss: 402.4069 / val_loss: 496.7420 - RMSE: 22.2877\n",
      "Epoch 44/100 - loss: 400.5612 / val_loss: 494.8440 - RMSE: 22.2451\n",
      "Epoch 45/100 - loss: 399.5115 / val_loss: 491.8082 - RMSE: 22.1767\n",
      "Epoch 46/100 - loss: 396.8506 / val_loss: 488.3167 - RMSE: 22.0979\n",
      "Epoch 47/100 - loss: 395.7744 / val_loss: 485.9492 - RMSE: 22.0443\n",
      "Epoch 48/100 - loss: 393.2113 / val_loss: 484.3576 - RMSE: 22.0081\n",
      "Epoch 49/100 - loss: 391.8178 / val_loss: 483.6012 - RMSE: 21.9909\n",
      "Epoch 50/100 - loss: 389.4958 / val_loss: 480.8836 - RMSE: 21.9291\n",
      "Epoch 51/100 - loss: 388.2164 / val_loss: 477.6076 - RMSE: 21.8542\n",
      "Epoch 52/100 - loss: 385.8426 / val_loss: 474.9691 - RMSE: 21.7938\n",
      "Epoch 53/100 - loss: 384.6195 / val_loss: 474.0160 - RMSE: 21.7719\n",
      "Epoch 54/100 - loss: 383.5121 / val_loss: 473.4518 - RMSE: 21.7589\n",
      "Epoch 55/100 - loss: 380.1829 / val_loss: 475.0523 - RMSE: 21.7957\n",
      "Epoch 56/100 - loss: 379.6226 / val_loss: 469.8840 - RMSE: 21.6768\n",
      "Epoch 57/100 - loss: 377.1228 / val_loss: 472.7451 - RMSE: 21.7427\n",
      "Epoch 58/100 - loss: 375.9179 / val_loss: 468.3033 - RMSE: 21.6403\n",
      "Epoch 59/100 - loss: 373.8602 / val_loss: 473.0867 - RMSE: 21.7506\n",
      "Epoch 60/100 - loss: 372.5462 / val_loss: 473.1699 - RMSE: 21.7525\n",
      "Epoch 61/100 - loss: 372.1366 / val_loss: 470.4403 - RMSE: 21.6896\n",
      "Epoch 62/100 - loss: 369.6943 / val_loss: 468.2408 - RMSE: 21.6389\n",
      "Epoch 63/100 - loss: 369.6657 / val_loss: 467.5605 - RMSE: 21.6231\n",
      "Epoch 64/100 - loss: 369.3358 / val_loss: 467.9730 - RMSE: 21.6327\n",
      "Epoch 65/100 - loss: 367.7386 / val_loss: 466.4348 - RMSE: 21.5971\n",
      "Epoch 66/100 - loss: 367.3644 / val_loss: 466.4608 - RMSE: 21.5977\n",
      "Epoch 67/100 - loss: 366.8569 / val_loss: 464.7298 - RMSE: 21.5576\n",
      "Epoch 68/100 - loss: 365.4296 / val_loss: 462.3941 - RMSE: 21.5034\n",
      "Epoch 69/100 - loss: 364.0872 / val_loss: 460.1583 - RMSE: 21.4513\n",
      "Epoch 70/100 - loss: 363.0930 / val_loss: 458.7232 - RMSE: 21.4178\n",
      "Epoch 71/100 - loss: 361.6581 / val_loss: 457.2280 - RMSE: 21.3829\n",
      "Epoch 72/100 - loss: 360.6639 / val_loss: 456.6498 - RMSE: 21.3694\n",
      "Epoch 73/100 - loss: 358.5190 / val_loss: 455.0829 - RMSE: 21.3327\n",
      "Epoch 74/100 - loss: 358.4686 / val_loss: 451.9743 - RMSE: 21.2597\n",
      "Epoch 75/100 - loss: 356.0989 / val_loss: 451.1652 - RMSE: 21.2406\n",
      "Epoch 76/100 - loss: 354.8531 / val_loss: 453.1323 - RMSE: 21.2869\n",
      "Epoch 77/100 - loss: 354.9203 / val_loss: 450.7072 - RMSE: 21.2299\n",
      "Epoch 78/100 - loss: 353.7143 / val_loss: 449.9720 - RMSE: 21.2125\n",
      "Epoch 79/100 - loss: 350.8366 / val_loss: 446.7469 - RMSE: 21.1364\n",
      "Epoch 80/100 - loss: 350.3330 / val_loss: 445.4765 - RMSE: 21.1063\n",
      "Epoch 81/100 - loss: 348.3312 / val_loss: 445.3107 - RMSE: 21.1024\n",
      "Epoch 82/100 - loss: 348.7792 / val_loss: 444.6080 - RMSE: 21.0857\n",
      "Epoch 83/100 - loss: 346.8391 / val_loss: 444.7653 - RMSE: 21.0895\n",
      "Epoch 84/100 - loss: 346.4960 / val_loss: 444.0545 - RMSE: 21.0726\n",
      "Epoch 85/100 - loss: 345.5739 / val_loss: 442.7470 - RMSE: 21.0416\n",
      "Epoch 86/100 - loss: 344.7607 / val_loss: 441.0805 - RMSE: 21.0019\n",
      "Epoch 87/100 - loss: 343.7825 / val_loss: 444.1805 - RMSE: 21.0756\n",
      "Epoch 88/100 - loss: 342.5496 / val_loss: 438.5192 - RMSE: 20.9408\n",
      "Epoch 89/100 - loss: 340.5097 / val_loss: 438.0554 - RMSE: 20.9298\n",
      "Epoch 90/100 - loss: 340.4223 / val_loss: 439.1733 - RMSE: 20.9565\n",
      "Epoch 91/100 - loss: 339.4721 / val_loss: 433.7651 - RMSE: 20.8270\n",
      "Epoch 92/100 - loss: 338.3795 / val_loss: 434.6434 - RMSE: 20.8481\n",
      "Epoch 93/100 - loss: 335.6851 / val_loss: 431.8029 - RMSE: 20.7799\n",
      "Epoch 94/100 - loss: 332.9771 / val_loss: 429.2395 - RMSE: 20.7181\n",
      "Epoch 95/100 - loss: 331.4571 / val_loss: 427.3532 - RMSE: 20.6725\n",
      "Epoch 96/100 - loss: 330.2808 / val_loss: 425.9723 - RMSE: 20.6391\n",
      "Epoch 97/100 - loss: 327.0539 / val_loss: 422.2847 - RMSE: 20.5496\n",
      "Epoch 98/100 - loss: 326.6246 / val_loss: 420.6652 - RMSE: 20.5101\n",
      "Epoch 99/100 - loss: 326.4685 / val_loss: 420.2151 - RMSE: 20.4991\n",
      "Epoch 100/100 - loss: 323.7932 / val_loss: 419.7034 - RMSE: 20.4867\n"
     ]
    }
   ],
   "source": [
    "res = train_model(model, train_dataloader, valid_dataloader, loss_func, path)"
   ]
  },
  {
   "cell_type": "code",
   "execution_count": 330,
   "metadata": {
    "executionInfo": {
     "elapsed": 40,
     "status": "ok",
     "timestamp": 1650961303268,
     "user": {
      "displayName": "박선영",
      "userId": "02522110649935123410"
     },
     "user_tz": -540
    },
    "id": "wnNqp4IMXoWr"
   },
   "outputs": [],
   "source": [
    "res_train, res_valid, rmse = res"
   ]
  },
  {
   "cell_type": "code",
   "execution_count": 271,
   "metadata": {
    "executionInfo": {
     "elapsed": 16,
     "status": "ok",
     "timestamp": 1650948762688,
     "user": {
      "displayName": "박선영",
      "userId": "02522110649935123410"
     },
     "user_tz": -540
    },
    "id": "8pU7bs9nXoWr"
   },
   "outputs": [],
   "source": [
    "test_dataset = TensorDataset(X_test, y_test)\n",
    "test_dataloader = DataLoader(test_dataset, batch_size=4)"
   ]
  },
  {
   "cell_type": "code",
   "execution_count": 333,
   "metadata": {
    "colab": {
     "base_uri": "https://localhost:8080/"
    },
    "executionInfo": {
     "elapsed": 2902,
     "status": "ok",
     "timestamp": 1650961308585,
     "user": {
      "displayName": "박선영",
      "userId": "02522110649935123410"
     },
     "user_tz": -540
    },
    "id": "0AwUuSPDXoWs",
    "outputId": "7c301173-4893-4eab-cc0a-bf3c248d5a30"
   },
   "outputs": [
    {
     "name": "stdout",
     "output_type": "stream",
     "text": [
      "RMSE: 37.22647792851735\n"
     ]
    }
   ],
   "source": [
    "pred = predict(test_dataset, path)"
   ]
  },
  {
   "cell_type": "code",
   "execution_count": 285,
   "metadata": {
    "executionInfo": {
     "elapsed": 251,
     "status": "ok",
     "timestamp": 1650949474614,
     "user": {
      "displayName": "박선영",
      "userId": "02522110649935123410"
     },
     "user_tz": -540
    },
    "id": "gTO1JcAVInz_"
   },
   "outputs": [],
   "source": [
    "res_df = pd.DataFrame()\n",
    "res_df['actual_scale'] = np.ravel(y_test)\n",
    "res_df['pred_scale'] = pred\n",
    "#res_df['actual'] = scalery.inverse_transform(np.array(res_df.actual_scale).reshape(-1,1))\n",
    "#res_df['pred'] = scalery.inverse_transform(np.array(res_df.pred_scale).reshape(-1,1))"
   ]
  },
  {
   "cell_type": "code",
   "execution_count": 302,
   "metadata": {
    "colab": {
     "base_uri": "https://localhost:8080/",
     "height": 423
    },
    "executionInfo": {
     "elapsed": 296,
     "status": "ok",
     "timestamp": 1650950116265,
     "user": {
      "displayName": "박선영",
      "userId": "02522110649935123410"
     },
     "user_tz": -540
    },
    "id": "FET3E_sDS4xR",
    "outputId": "db65bf89-2ba7-41b0-e693-942058b7cd7d"
   },
   "outputs": [
    {
     "data": {
      "text/html": [
       "\n",
       "  <div id=\"df-60bec5da-0add-4692-973d-9da8d9d38ce5\">\n",
       "    <div class=\"colab-df-container\">\n",
       "      <div>\n",
       "<style scoped>\n",
       "    .dataframe tbody tr th:only-of-type {\n",
       "        vertical-align: middle;\n",
       "    }\n",
       "\n",
       "    .dataframe tbody tr th {\n",
       "        vertical-align: top;\n",
       "    }\n",
       "\n",
       "    .dataframe thead th {\n",
       "        text-align: right;\n",
       "    }\n",
       "</style>\n",
       "<table border=\"1\" class=\"dataframe\">\n",
       "  <thead>\n",
       "    <tr style=\"text-align: right;\">\n",
       "      <th></th>\n",
       "      <th>actual_scale</th>\n",
       "      <th>pred_scale</th>\n",
       "      <th>actual</th>\n",
       "      <th>pred</th>\n",
       "    </tr>\n",
       "  </thead>\n",
       "  <tbody>\n",
       "    <tr>\n",
       "      <th>0</th>\n",
       "      <td>-0.761834</td>\n",
       "      <td>-0.790178</td>\n",
       "      <td>7.900000</td>\n",
       "      <td>7.027871</td>\n",
       "    </tr>\n",
       "    <tr>\n",
       "      <th>1</th>\n",
       "      <td>-0.520994</td>\n",
       "      <td>-0.474861</td>\n",
       "      <td>15.310440</td>\n",
       "      <td>16.729897</td>\n",
       "    </tr>\n",
       "    <tr>\n",
       "      <th>2</th>\n",
       "      <td>0.566771</td>\n",
       "      <td>0.331421</td>\n",
       "      <td>48.779999</td>\n",
       "      <td>41.538489</td>\n",
       "    </tr>\n",
       "    <tr>\n",
       "      <th>3</th>\n",
       "      <td>-0.598357</td>\n",
       "      <td>-0.530478</td>\n",
       "      <td>12.930040</td>\n",
       "      <td>15.018620</td>\n",
       "    </tr>\n",
       "    <tr>\n",
       "      <th>4</th>\n",
       "      <td>-0.359028</td>\n",
       "      <td>-0.330449</td>\n",
       "      <td>20.293970</td>\n",
       "      <td>21.173337</td>\n",
       "    </tr>\n",
       "    <tr>\n",
       "      <th>...</th>\n",
       "      <td>...</td>\n",
       "      <td>...</td>\n",
       "      <td>...</td>\n",
       "      <td>...</td>\n",
       "    </tr>\n",
       "    <tr>\n",
       "      <th>6621</th>\n",
       "      <td>-0.437483</td>\n",
       "      <td>-0.392130</td>\n",
       "      <td>17.879999</td>\n",
       "      <td>19.275468</td>\n",
       "    </tr>\n",
       "    <tr>\n",
       "      <th>6622</th>\n",
       "      <td>-0.637033</td>\n",
       "      <td>-0.612840</td>\n",
       "      <td>11.740000</td>\n",
       "      <td>12.484419</td>\n",
       "    </tr>\n",
       "    <tr>\n",
       "      <th>6623</th>\n",
       "      <td>0.517730</td>\n",
       "      <td>0.446391</td>\n",
       "      <td>47.271049</td>\n",
       "      <td>45.076014</td>\n",
       "    </tr>\n",
       "    <tr>\n",
       "      <th>6624</th>\n",
       "      <td>-0.625983</td>\n",
       "      <td>-0.615325</td>\n",
       "      <td>12.080000</td>\n",
       "      <td>12.407936</td>\n",
       "    </tr>\n",
       "    <tr>\n",
       "      <th>6625</th>\n",
       "      <td>-0.189507</td>\n",
       "      <td>-0.086657</td>\n",
       "      <td>25.510000</td>\n",
       "      <td>28.674589</td>\n",
       "    </tr>\n",
       "  </tbody>\n",
       "</table>\n",
       "<p>6626 rows × 4 columns</p>\n",
       "</div>\n",
       "      <button class=\"colab-df-convert\" onclick=\"convertToInteractive('df-60bec5da-0add-4692-973d-9da8d9d38ce5')\"\n",
       "              title=\"Convert this dataframe to an interactive table.\"\n",
       "              style=\"display:none;\">\n",
       "        \n",
       "  <svg xmlns=\"http://www.w3.org/2000/svg\" height=\"24px\"viewBox=\"0 0 24 24\"\n",
       "       width=\"24px\">\n",
       "    <path d=\"M0 0h24v24H0V0z\" fill=\"none\"/>\n",
       "    <path d=\"M18.56 5.44l.94 2.06.94-2.06 2.06-.94-2.06-.94-.94-2.06-.94 2.06-2.06.94zm-11 1L8.5 8.5l.94-2.06 2.06-.94-2.06-.94L8.5 2.5l-.94 2.06-2.06.94zm10 10l.94 2.06.94-2.06 2.06-.94-2.06-.94-.94-2.06-.94 2.06-2.06.94z\"/><path d=\"M17.41 7.96l-1.37-1.37c-.4-.4-.92-.59-1.43-.59-.52 0-1.04.2-1.43.59L10.3 9.45l-7.72 7.72c-.78.78-.78 2.05 0 2.83L4 21.41c.39.39.9.59 1.41.59.51 0 1.02-.2 1.41-.59l7.78-7.78 2.81-2.81c.8-.78.8-2.07 0-2.86zM5.41 20L4 18.59l7.72-7.72 1.47 1.35L5.41 20z\"/>\n",
       "  </svg>\n",
       "      </button>\n",
       "      \n",
       "  <style>\n",
       "    .colab-df-container {\n",
       "      display:flex;\n",
       "      flex-wrap:wrap;\n",
       "      gap: 12px;\n",
       "    }\n",
       "\n",
       "    .colab-df-convert {\n",
       "      background-color: #E8F0FE;\n",
       "      border: none;\n",
       "      border-radius: 50%;\n",
       "      cursor: pointer;\n",
       "      display: none;\n",
       "      fill: #1967D2;\n",
       "      height: 32px;\n",
       "      padding: 0 0 0 0;\n",
       "      width: 32px;\n",
       "    }\n",
       "\n",
       "    .colab-df-convert:hover {\n",
       "      background-color: #E2EBFA;\n",
       "      box-shadow: 0px 1px 2px rgba(60, 64, 67, 0.3), 0px 1px 3px 1px rgba(60, 64, 67, 0.15);\n",
       "      fill: #174EA6;\n",
       "    }\n",
       "\n",
       "    [theme=dark] .colab-df-convert {\n",
       "      background-color: #3B4455;\n",
       "      fill: #D2E3FC;\n",
       "    }\n",
       "\n",
       "    [theme=dark] .colab-df-convert:hover {\n",
       "      background-color: #434B5C;\n",
       "      box-shadow: 0px 1px 3px 1px rgba(0, 0, 0, 0.15);\n",
       "      filter: drop-shadow(0px 1px 2px rgba(0, 0, 0, 0.3));\n",
       "      fill: #FFFFFF;\n",
       "    }\n",
       "  </style>\n",
       "\n",
       "      <script>\n",
       "        const buttonEl =\n",
       "          document.querySelector('#df-60bec5da-0add-4692-973d-9da8d9d38ce5 button.colab-df-convert');\n",
       "        buttonEl.style.display =\n",
       "          google.colab.kernel.accessAllowed ? 'block' : 'none';\n",
       "\n",
       "        async function convertToInteractive(key) {\n",
       "          const element = document.querySelector('#df-60bec5da-0add-4692-973d-9da8d9d38ce5');\n",
       "          const dataTable =\n",
       "            await google.colab.kernel.invokeFunction('convertToInteractive',\n",
       "                                                     [key], {});\n",
       "          if (!dataTable) return;\n",
       "\n",
       "          const docLinkHtml = 'Like what you see? Visit the ' +\n",
       "            '<a target=\"_blank\" href=https://colab.research.google.com/notebooks/data_table.ipynb>data table notebook</a>'\n",
       "            + ' to learn more about interactive tables.';\n",
       "          element.innerHTML = '';\n",
       "          dataTable['output_type'] = 'display_data';\n",
       "          await google.colab.output.renderOutput(dataTable, element);\n",
       "          const docLink = document.createElement('div');\n",
       "          docLink.innerHTML = docLinkHtml;\n",
       "          element.appendChild(docLink);\n",
       "        }\n",
       "      </script>\n",
       "    </div>\n",
       "  </div>\n",
       "  "
      ],
      "text/plain": [
       "      actual_scale  pred_scale     actual       pred\n",
       "0        -0.761834   -0.790178   7.900000   7.027871\n",
       "1        -0.520994   -0.474861  15.310440  16.729897\n",
       "2         0.566771    0.331421  48.779999  41.538489\n",
       "3        -0.598357   -0.530478  12.930040  15.018620\n",
       "4        -0.359028   -0.330449  20.293970  21.173337\n",
       "...            ...         ...        ...        ...\n",
       "6621     -0.437483   -0.392130  17.879999  19.275468\n",
       "6622     -0.637033   -0.612840  11.740000  12.484419\n",
       "6623      0.517730    0.446391  47.271049  45.076014\n",
       "6624     -0.625983   -0.615325  12.080000  12.407936\n",
       "6625     -0.189507   -0.086657  25.510000  28.674589\n",
       "\n",
       "[6626 rows x 4 columns]"
      ]
     },
     "execution_count": 302,
     "metadata": {},
     "output_type": "execute_result"
    }
   ],
   "source": [
    "res_df"
   ]
  },
  {
   "cell_type": "code",
   "execution_count": 274,
   "metadata": {
    "colab": {
     "base_uri": "https://localhost:8080/"
    },
    "executionInfo": {
     "elapsed": 16,
     "status": "ok",
     "timestamp": 1650948765013,
     "user": {
      "displayName": "박선영",
      "userId": "02522110649935123410"
     },
     "user_tz": -540
    },
    "id": "mq1f2wMzIn0A",
    "outputId": "27e3f728-75dd-4497-8448-49ead500801e"
   },
   "outputs": [
    {
     "data": {
      "text/plain": [
       "0.5668207555474264"
      ]
     },
     "execution_count": 274,
     "metadata": {},
     "output_type": "execute_result"
    }
   ],
   "source": [
    "mean_squared_error(res_df.actual_scale, res_df.pred_scale)**0.5"
   ]
  },
  {
   "cell_type": "code",
   "execution_count": 275,
   "metadata": {
    "colab": {
     "base_uri": "https://localhost:8080/"
    },
    "executionInfo": {
     "elapsed": 14,
     "status": "ok",
     "timestamp": 1650948765014,
     "user": {
      "displayName": "박선영",
      "userId": "02522110649935123410"
     },
     "user_tz": -540
    },
    "id": "3NbpzZ7bIn0A",
    "outputId": "ac776820-60bd-4c3d-9e86-fd1fcd212b5d"
   },
   "outputs": [
    {
     "data": {
      "text/plain": [
       "17.44057868781602"
      ]
     },
     "execution_count": 275,
     "metadata": {},
     "output_type": "execute_result"
    }
   ],
   "source": [
    "mean_squared_error(res_df.actual, res_df.pred)**0.5"
   ]
  },
  {
   "cell_type": "code",
   "execution_count": 334,
   "metadata": {
    "colab": {
     "base_uri": "https://localhost:8080/",
     "height": 265
    },
    "executionInfo": {
     "elapsed": 142,
     "status": "ok",
     "timestamp": 1650961308588,
     "user": {
      "displayName": "박선영",
      "userId": "02522110649935123410"
     },
     "user_tz": -540
    },
    "id": "RoO66HBwXoWt",
    "outputId": "162af404-c4b3-4260-f19f-54e537a2f462"
   },
   "outputs": [
    {
     "data": {
      "image/png": "[encoded data removed]",
      "text/plain": [
       "<Figure size 432x288 with 1 Axes>"
      ]
     },
     "metadata": {
      "needs_background": "light"
     },
     "output_type": "display_data"
    }
   ],
   "source": [
    "plt.plot(res_train, color='orange', label='train')\n",
    "plt.plot(res_valid, color='blue', label='valid')\n",
    "plt.legend()\n",
    "plt.show()"
   ]
  },
  {
   "cell_type": "code",
   "execution_count": 294,
   "metadata": {
    "colab": {
     "base_uri": "https://localhost:8080/",
     "height": 265
    },
    "executionInfo": {
     "elapsed": 812,
     "status": "ok",
     "timestamp": 1650949622889,
     "user": {
      "displayName": "박선영",
      "userId": "02522110649935123410"
     },
     "user_tz": -540
    },
    "id": "S_0SECEwXoWt",
    "outputId": "2ed52d74-9f0c-4fa6-f4e3-e1021145f674"
   },
   "outputs": [
    {
     "data": {
      "image/png": "[encoded data removed]",
      "text/plain": [
       "<Figure size 432x288 with 1 Axes>"
      ]
     },
     "metadata": {
      "needs_background": "light"
     },
     "output_type": "display_data"
    }
   ],
   "source": [
    "plt.scatter(res_df.actual, res_df.pred, color='red') \n",
    "plt.show()"
   ]
  },
  {
   "cell_type": "code",
   "execution_count": 335,
   "metadata": {
    "colab": {
     "base_uri": "https://localhost:8080/",
     "height": 611
    },
    "executionInfo": {
     "elapsed": 678,
     "status": "ok",
     "timestamp": 1650961310419,
     "user": {
      "displayName": "박선영",
      "userId": "02522110649935123410"
     },
     "user_tz": -540
    },
    "id": "N3g9y0wUXoWu",
    "outputId": "dffe4d1c-d209-492e-8fad-2fad47143946"
   },
   "outputs": [
    {
     "data": {
      "image/png": "[encoded data removed]",
      "text/plain": [
       "<Figure size 720x720 with 1 Axes>"
      ]
     },
     "metadata": {
      "needs_background": "light"
     },
     "output_type": "display_data"
    }
   ],
   "source": [
    "plt.figure(figsize=(10,10))\n",
    "plt.scatter(res_df.actual_scale, res_df.pred_scale, c='crimson')\n",
    "#plt.yscale('log')\n",
    "#plt.xscale('log')\n",
    "\n",
    "p1 = max(max(res_df.pred_scale), max(res_df.actual_scale))\n",
    "p2 = min(min(res_df.pred_scale), min(res_df.actual_scale))\n",
    "plt.plot([p1, p2], [p1, p2], 'b-')\n",
    "plt.xlabel('True Values', fontsize=15)\n",
    "plt.ylabel('Predictions', fontsize=15)\n",
    "plt.axis('equal')\n",
    "plt.show()"
   ]
  },
  {
   "cell_type": "code",
   "execution_count": null,
   "metadata": {
    "id": "78JY2-bFRf9S"
   },
   "outputs": [],
   "source": []
  }
 ],
 "metadata": {
  "colab": {
   "collapsed_sections": [],
   "name": "New_ZLE.ipynb",
   "provenance": []
  },
  "interpreter": {
   "hash": "a9f122e37c82151bf9f34d3eff46fea91e08eb65de67b9d89caea98024846b0d"
  },
  "kernelspec": {
   "display_name": "Python 3 (ipykernel)",
   "language": "python",
   "name": "python3"
  },
  "language_info": {
   "codemirror_mode": {
    "name": "ipython",
    "version": 3
   },
   "file_extension": ".py",
   "mimetype": "text/x-python",
   "name": "python",
   "nbconvert_exporter": "python",
   "pygments_lexer": "ipython3",
   "version": "3.8.12"
  }
 },
 "nbformat": 4,
 "nbformat_minor": 1
}
