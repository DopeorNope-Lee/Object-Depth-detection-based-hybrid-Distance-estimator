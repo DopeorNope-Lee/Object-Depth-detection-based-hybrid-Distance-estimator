{
 "cells": [
  {
   "cell_type": "code",
   "execution_count": 1,
   "metadata": {},
   "outputs": [],
   "source": [
    "from tqdm import tqdm\n",
    "import os\n",
    "import pandas as pd\n",
    "import numpy as np\n",
    "import time\n",
    "from sklearn.model_selection import train_test_split\n",
    "from sklearn import metrics\n",
    "from sklearn import ensemble\n",
    "from sklearn.preprocessing import StandardScaler\n",
    "from custom_datasets import CustomDataset\n",
    "from sklearn.metrics import mean_squared_error\n",
    "from sklearn.model_selection import GridSearchCV\n",
    "from sklearn.metrics import mean_absolute_error\n",
    "from tqdm import tqdm\n",
    "import torch\n",
    "from torch import nn\n",
    "from torch.utils.data import TensorDataset # 텐서데이터셋\n",
    "from torch.utils.data import DataLoader # 데이터로더\n",
    "from sklearn.preprocessing import StandardScaler\n",
    "import matplotlib.pyplot as plt"
   ]
  },
  {
   "cell_type": "code",
   "execution_count": 2,
   "metadata": {},
   "outputs": [],
   "source": [
    "from sklearn.metrics import make_scorer\n",
    "#define your own mse and set greater_is_better=False\n",
    "mse = make_scorer(mean_squared_error,greater_is_better=False)"
   ]
  },
  {
   "cell_type": "code",
   "execution_count": 3,
   "metadata": {},
   "outputs": [],
   "source": [
    "os.makedirs('./weights', exist_ok=True)"
   ]
  },
  {
   "cell_type": "code",
   "execution_count": 54,
   "metadata": {},
   "outputs": [],
   "source": [
    "df_train = pd.read_csv('../datasets/kitti_train.csv')\n",
    "df_valid = pd.read_csv('../datasets/kitti_valid.csv')\n",
    "df_test = pd.read_csv('../datasets/kitti_test.csv')"
   ]
  },
  {
   "cell_type": "code",
   "execution_count": 55,
   "metadata": {},
   "outputs": [
    {
     "data": {
      "text/plain": [
       "array(['person', 'car', 'truck', 'train', 'bicycle', 'Misc'], dtype=object)"
      ]
     },
     "execution_count": 55,
     "metadata": {},
     "output_type": "execute_result"
    }
   ],
   "source": [
    "df_train['class'].unique()"
   ]
  },
  {
   "cell_type": "code",
   "execution_count": 56,
   "metadata": {},
   "outputs": [],
   "source": [
    "train = df_train.drop(['filename', 'class', 'weather'], axis=1)\n",
    "valid = df_valid.drop(['filename', 'class', 'weather'], axis=1)\n",
    "test = df_test.drop(['filename', 'class', 'weather'], axis=1)"
   ]
  },
  {
   "cell_type": "code",
   "execution_count": 57,
   "metadata": {},
   "outputs": [],
   "source": [
    "# onehot encoding\n",
    "class_dummy = pd.get_dummies(df_train['class'])\n",
    "df_train = pd.concat([df_train, class_dummy], axis=1)\n",
    "\n",
    "class_dummy = pd.get_dummies(df_valid['class'])\n",
    "df_valid = pd.concat([df_valid, class_dummy], axis=1)\n",
    "\n",
    "class_dummy = pd.get_dummies(df_test['class'])\n",
    "df_test = pd.concat([df_test, class_dummy], axis=1)"
   ]
  },
  {
   "cell_type": "code",
   "execution_count": 58,
   "metadata": {},
   "outputs": [
    {
     "name": "stdout",
     "output_type": "stream",
     "text": [
      "<class 'pandas.core.frame.DataFrame'>\n",
      "RangeIndex: 22022 entries, 0 to 22021\n",
      "Data columns (total 21 columns):\n",
      " #   Column      Non-Null Count  Dtype  \n",
      "---  ------      --------------  -----  \n",
      " 0   filename    22022 non-null  object \n",
      " 1   class       22022 non-null  object \n",
      " 2   xmin        22022 non-null  float64\n",
      " 3   ymin        22022 non-null  float64\n",
      " 4   xmax        22022 non-null  float64\n",
      " 5   ymax        22022 non-null  float64\n",
      " 6   angle       22022 non-null  float64\n",
      " 7   zloc        22022 non-null  float64\n",
      " 8   weather     22022 non-null  object \n",
      " 9   depth_y     22022 non-null  int64  \n",
      " 10  depth_mean  22022 non-null  float64\n",
      " 11  depth_x     22022 non-null  int64  \n",
      " 12  depth_min   22022 non-null  float64\n",
      " 13  width       22022 non-null  float64\n",
      " 14  height      22022 non-null  float64\n",
      " 15  Misc        22022 non-null  uint8  \n",
      " 16  bicycle     22022 non-null  uint8  \n",
      " 17  car         22022 non-null  uint8  \n",
      " 18  person      22022 non-null  uint8  \n",
      " 19  train       22022 non-null  uint8  \n",
      " 20  truck       22022 non-null  uint8  \n",
      "dtypes: float64(10), int64(2), object(3), uint8(6)\n",
      "memory usage: 2.6+ MB\n"
     ]
    }
   ],
   "source": [
    "df_train.info()"
   ]
  },
  {
   "cell_type": "code",
   "execution_count": 59,
   "metadata": {},
   "outputs": [],
   "source": [
    "def scale(df, variable):\n",
    "    for v in variable:\n",
    "        scaler = StandardScaler()\n",
    "        feat = np.array(df[v]).reshape(-1,1)\n",
    "        df[v] = scaler.fit_transform(feat)\n",
    "    return df"
   ]
  },
  {
   "cell_type": "code",
   "execution_count": 60,
   "metadata": {},
   "outputs": [],
   "source": [
    "variable = ['xmin', 'ymin', 'xmax', 'ymax', 'angle', 'depth_y', 'depth_mean', 'depth_x', 'depth_min', 'width', 'height']\n",
    "\n",
    "df_train = scale(df_train, variable)\n",
    "df_valid = scale(df_valid, variable)\n",
    "df_test = scale(df_test, variable)"
   ]
  },
  {
   "cell_type": "code",
   "execution_count": 61,
   "metadata": {},
   "outputs": [
    {
     "data": {
      "text/plain": [
       "Index(['filename', 'class', 'xmin', 'ymin', 'xmax', 'ymax', 'angle', 'zloc',\n",
       "       'weather', 'depth_y', 'depth_mean', 'depth_x', 'depth_min', 'width',\n",
       "       'height', 'Misc', 'bicycle', 'car', 'person', 'train', 'truck'],\n",
       "      dtype='object')"
      ]
     },
     "execution_count": 61,
     "metadata": {},
     "output_type": "execute_result"
    }
   ],
   "source": [
    "df_train.columns"
   ]
  },
  {
   "cell_type": "code",
   "execution_count": 62,
   "metadata": {},
   "outputs": [
    {
     "data": {
      "text/plain": [
       "Index(['xmin', 'ymin', 'xmax', 'ymax', 'angle', 'zloc', 'depth_y',\n",
       "       'depth_mean', 'depth_x', 'depth_min', 'width', 'height'],\n",
       "      dtype='object')"
      ]
     },
     "execution_count": 62,
     "metadata": {},
     "output_type": "execute_result"
    }
   ],
   "source": [
    "train.columns\n"
   ]
  },
  {
   "cell_type": "code",
   "execution_count": 63,
   "metadata": {},
   "outputs": [],
   "source": [
    "X_train = train.loc[:, train.columns != 'zloc']\n",
    "y_train = train.loc[:, train.columns == 'zloc']\n",
    "\n",
    "X_valid = valid.loc[:, valid.columns != 'zloc']\n",
    "y_valid = valid.loc[:, valid.columns == 'zloc']\n",
    "\n",
    "X_test = test.loc[:, test.columns != 'zloc']\n",
    "y_test = test.loc[:, test.columns == 'zloc']"
   ]
  },
  {
   "cell_type": "code",
   "execution_count": 64,
   "metadata": {},
   "outputs": [
    {
     "data": {
      "text/html": [
       "<div>\n",
       "<style scoped>\n",
       "    .dataframe tbody tr th:only-of-type {\n",
       "        vertical-align: middle;\n",
       "    }\n",
       "\n",
       "    .dataframe tbody tr th {\n",
       "        vertical-align: top;\n",
       "    }\n",
       "\n",
       "    .dataframe thead th {\n",
       "        text-align: right;\n",
       "    }\n",
       "</style>\n",
       "<table border=\"1\" class=\"dataframe\">\n",
       "  <thead>\n",
       "    <tr style=\"text-align: right;\">\n",
       "      <th></th>\n",
       "      <th>xmin</th>\n",
       "      <th>ymin</th>\n",
       "      <th>xmax</th>\n",
       "      <th>ymax</th>\n",
       "      <th>angle</th>\n",
       "      <th>depth_y</th>\n",
       "      <th>depth_mean</th>\n",
       "      <th>depth_x</th>\n",
       "      <th>depth_min</th>\n",
       "      <th>width</th>\n",
       "      <th>height</th>\n",
       "    </tr>\n",
       "  </thead>\n",
       "  <tbody>\n",
       "    <tr>\n",
       "      <th>0</th>\n",
       "      <td>711.87683</td>\n",
       "      <td>151.95032</td>\n",
       "      <td>809.37300</td>\n",
       "      <td>308.49020</td>\n",
       "      <td>-0.20</td>\n",
       "      <td>206</td>\n",
       "      <td>1.353822</td>\n",
       "      <td>740</td>\n",
       "      <td>0.924987</td>\n",
       "      <td>97.49617</td>\n",
       "      <td>156.53988</td>\n",
       "    </tr>\n",
       "    <tr>\n",
       "      <th>1</th>\n",
       "      <td>390.57785</td>\n",
       "      <td>181.78027</td>\n",
       "      <td>421.47256</td>\n",
       "      <td>200.24520</td>\n",
       "      <td>1.85</td>\n",
       "      <td>199</td>\n",
       "      <td>8.203516</td>\n",
       "      <td>402</td>\n",
       "      <td>7.598885</td>\n",
       "      <td>30.89471</td>\n",
       "      <td>18.46493</td>\n",
       "    </tr>\n",
       "    <tr>\n",
       "      <th>2</th>\n",
       "      <td>655.78680</td>\n",
       "      <td>190.24402</td>\n",
       "      <td>698.48170</td>\n",
       "      <td>221.83864</td>\n",
       "      <td>-1.67</td>\n",
       "      <td>215</td>\n",
       "      <td>5.255319</td>\n",
       "      <td>688</td>\n",
       "      <td>4.330514</td>\n",
       "      <td>42.69490</td>\n",
       "      <td>31.59462</td>\n",
       "    </tr>\n",
       "    <tr>\n",
       "      <th>3</th>\n",
       "      <td>612.12930</td>\n",
       "      <td>176.14651</td>\n",
       "      <td>729.66540</td>\n",
       "      <td>282.53200</td>\n",
       "      <td>1.55</td>\n",
       "      <td>223</td>\n",
       "      <td>2.592226</td>\n",
       "      <td>714</td>\n",
       "      <td>1.617154</td>\n",
       "      <td>117.53610</td>\n",
       "      <td>106.38549</td>\n",
       "    </tr>\n",
       "    <tr>\n",
       "      <th>4</th>\n",
       "      <td>283.69547</td>\n",
       "      <td>184.47151</td>\n",
       "      <td>343.14720</td>\n",
       "      <td>211.07599</td>\n",
       "      <td>1.96</td>\n",
       "      <td>205</td>\n",
       "      <td>5.243353</td>\n",
       "      <td>289</td>\n",
       "      <td>4.655178</td>\n",
       "      <td>59.45173</td>\n",
       "      <td>26.60448</td>\n",
       "    </tr>\n",
       "  </tbody>\n",
       "</table>\n",
       "</div>"
      ],
      "text/plain": [
       "        xmin       ymin       xmax       ymax  angle  depth_y  depth_mean  \\\n",
       "0  711.87683  151.95032  809.37300  308.49020  -0.20      206    1.353822   \n",
       "1  390.57785  181.78027  421.47256  200.24520   1.85      199    8.203516   \n",
       "2  655.78680  190.24402  698.48170  221.83864  -1.67      215    5.255319   \n",
       "3  612.12930  176.14651  729.66540  282.53200   1.55      223    2.592226   \n",
       "4  283.69547  184.47151  343.14720  211.07599   1.96      205    5.243353   \n",
       "\n",
       "   depth_x  depth_min      width     height  \n",
       "0      740   0.924987   97.49617  156.53988  \n",
       "1      402   7.598885   30.89471   18.46493  \n",
       "2      688   4.330514   42.69490   31.59462  \n",
       "3      714   1.617154  117.53610  106.38549  \n",
       "4      289   4.655178   59.45173   26.60448  "
      ]
     },
     "execution_count": 64,
     "metadata": {},
     "output_type": "execute_result"
    }
   ],
   "source": [
    "X_train.head()"
   ]
  },
  {
   "cell_type": "code",
   "execution_count": 65,
   "metadata": {},
   "outputs": [
    {
     "data": {
      "text/plain": [
       "Index(['xmin', 'ymin', 'xmax', 'ymax', 'angle', 'depth_y', 'depth_mean',\n",
       "       'depth_x', 'depth_min', 'width', 'height'],\n",
       "      dtype='object')"
      ]
     },
     "execution_count": 65,
     "metadata": {},
     "output_type": "execute_result"
    }
   ],
   "source": [
    "X_train.columns"
   ]
  },
  {
   "cell_type": "code",
   "execution_count": 66,
   "metadata": {},
   "outputs": [
    {
     "data": {
      "text/plain": [
       "Index(['xmin', 'ymin', 'xmax', 'ymax', 'angle', 'depth_y', 'depth_mean',\n",
       "       'depth_x', 'depth_min', 'width', 'height'],\n",
       "      dtype='object')"
      ]
     },
     "execution_count": 66,
     "metadata": {},
     "output_type": "execute_result"
    }
   ],
   "source": [
    "X_test.columns"
   ]
  },
  {
   "cell_type": "code",
   "execution_count": 67,
   "metadata": {},
   "outputs": [],
   "source": [
    "#텐서화\n",
    "X_train = torch.FloatTensor(X_train.values)\n",
    "y_train = torch.FloatTensor(y_train.values)\n",
    "\n",
    "X_valid = torch.FloatTensor(X_valid.values)\n",
    "y_valid = torch.FloatTensor(y_valid.values)\n",
    "\n",
    "X_test = torch.FloatTensor(X_test.values)\n",
    "y_test = torch.FloatTensor(y_test.values)"
   ]
  },
  {
   "cell_type": "code",
   "execution_count": 68,
   "metadata": {},
   "outputs": [],
   "source": [
    "class Zloc_Estimaotor(nn.Module):\n",
    "      def __init__(self):\n",
    "        super().__init__()\n",
    "        #Layer\n",
    "        layersize=[16,32,64,32,16,8,2]\n",
    "        layerlist= []\n",
    "        n_in=11\n",
    "        for i in layersize:\n",
    "            layerlist.append(nn.Linear(n_in,i))\n",
    "            layerlist.append(nn.ReLU(inplace=True))\n",
    "            layerlist.append(nn.BatchNorm1d(i))\n",
    "            layerlist.append(nn.Dropout(0.4))\n",
    "            n_in=i           \n",
    "        layerlist.append(nn.Linear(layersize[-1],1))\n",
    "        layerlist.append(nn.Sigmoid(inplace=True))\n",
    "        \n",
    "        self.layers=nn.Sequential(*layerlist)\n",
    "        \n",
    "      def forward(self, x):\n",
    "        out= self.layers(x)\n",
    "        return out"
   ]
  },
  {
   "cell_type": "code",
   "execution_count": 69,
   "metadata": {},
   "outputs": [],
   "source": [
    "# Function to save the model \n",
    "def saveModel(model): \n",
    "    path = \"NetModel2.pth\" \n",
    "    torch.save(model.state_dict(), path) "
   ]
  },
  {
   "cell_type": "code",
   "execution_count": 118,
   "metadata": {},
   "outputs": [],
   "source": [
    "def train_model(model, train_dataloader, valid_dataloader, loss_fn, lr=1e-5, batch_size=512, epochs=100, validate=False):\n",
    "  param_lrs = [{'params':param, 'lr':lr} for param in model.parameters()]\n",
    "  optimizer = torch.optim.Adam(param_lrs, lr=lr) #weighted decay 설정하여고고\n",
    "  \n",
    "  # Define your execution device\n",
    "  device = torch.device(\"cuda:0\" if torch.cuda.is_available() else \"cpu\")\n",
    "  # Convert model parameters and buffers to CPU or Cuda\n",
    "  model.to(device)\n",
    "\n",
    "  best_rmse = np.Inf\n",
    "  print(\"Begin training...\") \n",
    "  res_train = []\n",
    "  res_valid = []\n",
    "  res_rmse = []\n",
    "  for epoch in range(1, epochs+1): \n",
    "    running_train_loss = 0.0 \n",
    "    running_rmse = 0.0 \n",
    "    running_val_loss = 0.0 \n",
    "    total = 0 \n",
    "\n",
    "    for batch_ind, samples in enumerate(train_dataloader):\n",
    "      x_train, y_train = samples\n",
    "      optimizer.zero_grad()\n",
    "      pred = model.forward(x_train)\n",
    "      train_loss = loss_fn(pred, y_train)\n",
    "      train_loss.backward()\n",
    "      optimizer.step()\n",
    "      running_train_loss += train_loss.item()\n",
    "\n",
    "    train_loss_value = running_train_loss/len(train_dataloader)\n",
    "    \n",
    "    with torch.no_grad(): \n",
    "      #model.eval() \n",
    "      for data in valid_dataloader: \n",
    "        inputs, outputs = data \n",
    "        predicted_outputs = model(inputs) \n",
    "        val_loss = loss_fn(predicted_outputs, outputs) \n",
    "      \n",
    "        # The label with the highest value will be our prediction \n",
    "        running_val_loss += val_loss.item()  \n",
    "        total += 1\n",
    "        rmse = mean_squared_error(outputs, predicted_outputs)\n",
    "        running_rmse += rmse\n",
    "\n",
    "    # Calculate validation loss value \n",
    "    val_loss_value = running_val_loss/len(valid_dataloader)  \n",
    "    rmse = (running_rmse / total)**0.5\n",
    "    res_train.append(rmse)\n",
    "\n",
    "    if rmse < best_rmse:\n",
    "      saveModel(model)\n",
    "      best_rmse = rmse\n",
    "    \n",
    "    # Print the statistics of the epoch \n",
    "    print('Epoch {0}/{1} - loss: {2:.4f} / val_loss: {3:.4f} - RMSE: {4:.4f}'.format(epoch, epochs, train_loss_value, val_loss_value, rmse))\n",
    "    res_train.append(train_loss_value)\n",
    "    res_valid.append(val_loss_value)\n",
    "    res_rmse.append(rmse)\n",
    "  return [res_train, res_valid, res_rmse]"
   ]
  },
  {
   "cell_type": "code",
   "execution_count": 119,
   "metadata": {},
   "outputs": [],
   "source": [
    "def predict(test_dataloader): \n",
    "    # Load the model that we saved at the end of the training loop \n",
    "    model = Zloc_Estimaotor()\n",
    "    path = \"NetModel.pth\" \n",
    "    model.load_state_dict(torch.load(path)) \n",
    "     \n",
    "    running_rmse = 0 \n",
    "    total = 0 \n",
    "    pred = []\n",
    " \n",
    "    with torch.no_grad(): \n",
    "      model.eval()\n",
    "      for data in test_dataloader: \n",
    "        inputs, outputs = data \n",
    "        inputs=inputs.unsqueeze(0)\n",
    "        outputs = outputs.to(torch.float32) \n",
    "        predicted_outputs = model(inputs) \n",
    "        pred.append(float(predicted_outputs))\n",
    "        total += 1\n",
    "        rmse = mean_squared_error(outputs, predicted_outputs)\n",
    "        running_rmse += rmse\n",
    " \n",
    "      print('RMSE:',(running_rmse / total)**0.5)\n",
    "    return pred"
   ]
  },
  {
   "cell_type": "code",
   "execution_count": 120,
   "metadata": {},
   "outputs": [],
   "source": [
    "train_dataset = TensorDataset(X_train, y_train)\n",
    "valid_dataset = TensorDataset(X_valid, y_valid)\n",
    "train_dataloader = DataLoader(train_dataset, batch_size=4)\n",
    "valid_dataloader = DataLoader(valid_dataset, batch_size=4)\n",
    "\n"
   ]
  },
  {
   "cell_type": "code",
   "execution_count": 121,
   "metadata": {},
   "outputs": [],
   "source": [
    "import torch.nn.init as init\n",
    "def weight_init(m):\n",
    "    if isinstance(m, nn.Linear): # nn.Linear에 있는 가중치에만 적용\n",
    "        init.kaiming_uniform_(m.weight.data) # He initialization\n",
    "\n",
    "model = Zloc_Estimaotor()\n",
    "model.apply(weight_init) # 가중치 초깃값 설정\n",
    "loss_func = nn.MSELoss()"
   ]
  },
  {
   "cell_type": "code",
   "execution_count": 122,
   "metadata": {},
   "outputs": [
    {
     "data": {
      "text/plain": [
       "Zloc_Estimaotor(\n",
       "  (layers): Sequential(\n",
       "    (0): Linear(in_features=11, out_features=16, bias=True)\n",
       "    (1): ReLU(inplace=True)\n",
       "    (2): BatchNorm1d(16, eps=1e-05, momentum=0.1, affine=True, track_running_stats=True)\n",
       "    (3): Dropout(p=0.4, inplace=False)\n",
       "    (4): Linear(in_features=16, out_features=32, bias=True)\n",
       "    (5): ReLU(inplace=True)\n",
       "    (6): BatchNorm1d(32, eps=1e-05, momentum=0.1, affine=True, track_running_stats=True)\n",
       "    (7): Dropout(p=0.4, inplace=False)\n",
       "    (8): Linear(in_features=32, out_features=64, bias=True)\n",
       "    (9): ReLU(inplace=True)\n",
       "    (10): BatchNorm1d(64, eps=1e-05, momentum=0.1, affine=True, track_running_stats=True)\n",
       "    (11): Dropout(p=0.4, inplace=False)\n",
       "    (12): Linear(in_features=64, out_features=32, bias=True)\n",
       "    (13): ReLU(inplace=True)\n",
       "    (14): BatchNorm1d(32, eps=1e-05, momentum=0.1, affine=True, track_running_stats=True)\n",
       "    (15): Dropout(p=0.4, inplace=False)\n",
       "    (16): Linear(in_features=32, out_features=16, bias=True)\n",
       "    (17): ReLU(inplace=True)\n",
       "    (18): BatchNorm1d(16, eps=1e-05, momentum=0.1, affine=True, track_running_stats=True)\n",
       "    (19): Dropout(p=0.4, inplace=False)\n",
       "    (20): Linear(in_features=16, out_features=8, bias=True)\n",
       "    (21): ReLU(inplace=True)\n",
       "    (22): BatchNorm1d(8, eps=1e-05, momentum=0.1, affine=True, track_running_stats=True)\n",
       "    (23): Dropout(p=0.4, inplace=False)\n",
       "    (24): Linear(in_features=8, out_features=2, bias=True)\n",
       "    (25): ReLU(inplace=True)\n",
       "    (26): BatchNorm1d(2, eps=1e-05, momentum=0.1, affine=True, track_running_stats=True)\n",
       "    (27): Dropout(p=0.4, inplace=False)\n",
       "    (28): Linear(in_features=2, out_features=1, bias=True)\n",
       "  )\n",
       ")"
      ]
     },
     "execution_count": 122,
     "metadata": {},
     "output_type": "execute_result"
    }
   ],
   "source": [
    "model"
   ]
  },
  {
   "cell_type": "code",
   "execution_count": 128,
   "metadata": {},
   "outputs": [
    {
     "name": "stdout",
     "output_type": "stream",
     "text": [
      "Begin training...\n",
      "Epoch 1/5 - loss: 1009.7846 / val_loss: 1017.2973 - RMSE: 31.8951\n",
      "Epoch 2/5 - loss: 1002.6603 / val_loss: 1008.4885 - RMSE: 31.7567\n",
      "Epoch 3/5 - loss: 995.3517 / val_loss: 1001.7728 - RMSE: 31.6508\n",
      "Epoch 4/5 - loss: 988.6625 / val_loss: 994.3904 - RMSE: 31.5340\n",
      "Epoch 5/5 - loss: 980.9247 / val_loss: 986.3478 - RMSE: 31.4062\n"
     ]
    }
   ],
   "source": [
    "res = train_model(model, train_dataloader, valid_dataloader, loss_func, epochs=5)#올리기위해 5로만 잡아놓음"
   ]
  },
  {
   "cell_type": "code",
   "execution_count": 129,
   "metadata": {},
   "outputs": [],
   "source": [
    "res_train, res_valid, rmse = res"
   ]
  },
  {
   "cell_type": "code",
   "execution_count": 130,
   "metadata": {},
   "outputs": [],
   "source": [
    "test_dataset = TensorDataset(X_test, y_test)\n",
    "\n",
    "test_dataloader = DataLoader(test_dataset, batch_size=4)"
   ]
  },
  {
   "cell_type": "code",
   "execution_count": 131,
   "metadata": {},
   "outputs": [
    {
     "name": "stdout",
     "output_type": "stream",
     "text": [
      "RMSE: 4.680703207927983\n"
     ]
    }
   ],
   "source": [
    "pred = predict(test_dataset)"
   ]
  },
  {
   "cell_type": "code",
   "execution_count": 132,
   "metadata": {},
   "outputs": [],
   "source": [
    "res_df = pd.DataFrame([res_train[1::2], res_valid]).transpose()\n",
    "res_df.columns = ['train', 'valid']"
   ]
  },
  {
   "cell_type": "code",
   "execution_count": 133,
   "metadata": {},
   "outputs": [
    {
     "data": {
      "image/png": "[encoded data removed]",
      "text/plain": [
       "<Figure size 432x288 with 1 Axes>"
      ]
     },
     "metadata": {
      "needs_background": "light"
     },
     "output_type": "display_data"
    }
   ],
   "source": [
    "\n",
    "plt.plot(res_train[1::2], color='orange')\n",
    "plt.plot(res_valid, color='blue')\n",
    "plt.show()"
   ]
  },
  {
   "cell_type": "code",
   "execution_count": 134,
   "metadata": {},
   "outputs": [
    {
     "data": {
      "image/png": "[encoded data removed]",
      "text/plain": [
       "<Figure size 432x288 with 1 Axes>"
      ]
     },
     "metadata": {
      "needs_background": "light"
     },
     "output_type": "display_data"
    }
   ],
   "source": [
    "plt.plot(rmse)\n",
    "plt.show()"
   ]
  },
  {
   "cell_type": "code",
   "execution_count": null,
   "metadata": {},
   "outputs": [],
   "source": []
  }
 ],
 "metadata": {
  "interpreter": {
   "hash": "a9f122e37c82151bf9f34d3eff46fea91e08eb65de67b9d89caea98024846b0d"
  },
  "kernelspec": {
   "display_name": "Python 3.9.12 ('base')",
   "language": "python",
   "name": "python3"
  },
  "language_info": {
   "name": "python",
   "version": "3.9.12"
  },
  "orig_nbformat": 4
 },
 "nbformat": 4,
 "nbformat_minor": 2
}
